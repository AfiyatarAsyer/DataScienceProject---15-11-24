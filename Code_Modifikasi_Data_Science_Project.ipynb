{
 "cells": [
  {
   "cell_type": "markdown",
   "metadata": {
    "id": "1o0l2_0ObUHg"
   },
   "source": [
    "Afiyatar Asyer\n",
    "672019061\n",
    "Pemodelan dan Simulasi"
   ]
  },
  {
   "cell_type": "code",
   "execution_count": null,
   "metadata": {
    "colab": {
     "base_uri": "https://localhost:8080/"
    },
    "id": "DV9sRSPpWfZy",
    "outputId": "31e38f65-7216-4cb0-80a9-ded8d8bedc1c"
   },
   "outputs": [
    {
     "data": {
      "text/plain": [
       "Traceback (most recent call last):\n",
       "  File \"c:\\Users\\HP\\.vscode\\extensions\\ms-python.python-2024.18.1-win32-x64\\python_files\\python_server.py\", line 130, in exec_user_input\n",
       "    retval = callable_(user_input, user_globals)\n",
       "  File \"<string>\", line 1, in <module>\n",
       "ModuleNotFoundError: No module named 'kagglehub'\n",
       "\n"
      ]
     },
     "metadata": {},
     "output_type": "display_data"
    }
   ],
   "source": [
    "import kagglehub\n",
    "\n",
    "# Download latest version\n",
    "path = kagglehub.dataset_download(\"rashikrahmanpritom/heart-attack-analysis-prediction-dataset\")\n",
    "\n",
    "print(\"Path to dataset files:\", path)"
   ]
  },
  {
   "cell_type": "code",
   "execution_count": null,
   "metadata": {
    "id": "TvU13q0ria6n"
   },
   "outputs": [],
   "source": [
    "dataset_path1 = '/root/.cache/kagglehub/datasets/rashikrahmanpritom/heart-attack-analysis-prediction-dataset/versions/2/heart.csv'"
   ]
  },
  {
   "cell_type": "code",
   "execution_count": null,
   "metadata": {
    "colab": {
     "base_uri": "https://localhost:8080/",
     "height": 206
    },
    "id": "xjjAEAYcihwT",
    "outputId": "5ac27e8a-7a4d-4b99-9f63-e1add8733ff5"
   },
   "outputs": [
    {
     "data": {
      "text/plain": [
       "Traceback (most recent call last):\n",
       "  File \"c:\\Users\\HP\\.vscode\\extensions\\ms-python.python-2024.18.1-win32-x64\\python_files\\python_server.py\", line 130, in exec_user_input\n",
       "    retval = callable_(user_input, user_globals)\n",
       "  File \"<string>\", line 3, in <module>\n",
       "  File \"C:\\Users\\HP\\AppData\\Local\\Programs\\Python\\Python310\\lib\\site-packages\\pandas\\util\\_decorators.py\", line 311, in wrapper\n",
       "    return func(*args, **kwargs)\n",
       "  File \"C:\\Users\\HP\\AppData\\Local\\Programs\\Python\\Python310\\lib\\site-packages\\pandas\\io\\parsers\\readers.py\", line 680, in read_csv\n",
       "    return _read(filepath_or_buffer, kwds)\n",
       "  File \"C:\\Users\\HP\\AppData\\Local\\Programs\\Python\\Python310\\lib\\site-packages\\pandas\\io\\parsers\\readers.py\", line 575, in _read\n",
       "    parser = TextFileReader(filepath_or_buffer, **kwds)\n",
       "  File \"C:\\Users\\HP\\AppData\\Local\\Programs\\Python\\Python310\\lib\\site-packages\\pandas\\io\\parsers\\readers.py\", line 933, in __init__\n",
       "    self._engine = self._make_engine(f, self.engine)\n",
       "  File \"C:\\Users\\HP\\AppData\\Local\\Programs\\Python\\Python310\\lib\\site-packages\\pandas\\io\\parsers\\readers.py\", line 1217, in _make_engine\n",
       "    self.handles = get_handle(  # type: ignore[call-overload]\n",
       "  File \"C:\\Users\\HP\\AppData\\Local\\Programs\\Python\\Python310\\lib\\site-packages\\pandas\\io\\common.py\", line 789, in get_handle\n",
       "    handle = open(\n",
       "FileNotFoundError: [Errno 2] No such file or directory: '/root/.cache/kagglehub/datasets/rashikrahmanpritom/heart-attack-analysis-prediction-dataset/versions/2/heart.csv'\n",
       "\n"
      ]
     },
     "metadata": {},
     "output_type": "display_data"
    }
   ],
   "source": [
    "import pandas as pd\n",
    "\n",
    "dataframe = pd.read_csv (dataset_path1)\n",
    "dataframe.head()"
   ]
  },
  {
   "cell_type": "code",
   "execution_count": null,
   "metadata": {
    "colab": {
     "base_uri": "https://localhost:8080/"
    },
    "id": "iY6gvOMIihrF",
    "outputId": "23b4e143-42f0-4d25-d0cc-28d7dfe0447c"
   },
   "outputs": [
    {
     "data": {
      "text/plain": [
       "\n",
       "Info Serangan Jantung Dataset:\n",
       "Traceback (most recent call last):\n",
       "  File \"c:\\Users\\HP\\.vscode\\extensions\\ms-python.python-2024.18.1-win32-x64\\python_files\\python_server.py\", line 130, in exec_user_input\n",
       "    retval = callable_(user_input, user_globals)\n",
       "  File \"<string>\", line 2, in <module>\n",
       "NameError: name 'dataframe' is not defined\n",
       "\n"
      ]
     },
     "metadata": {},
     "output_type": "display_data"
    }
   ],
   "source": [
    "print(\"\\nInfo Serangan Jantung Dataset:\")\n",
    "dataframe.info()"
   ]
  },
  {
   "cell_type": "code",
   "execution_count": null,
   "metadata": {
    "colab": {
     "base_uri": "https://localhost:8080/"
    },
    "id": "irI8EGFjihl4",
    "outputId": "e9649a32-a47c-45c1-934a-652dfa09e6cf"
   },
   "outputs": [
    {
     "data": {
      "text/plain": [
       "\\Serangan Jantung Dataset Statistics:\n",
       "Traceback (most recent call last):\n",
       "  File \"c:\\Users\\HP\\.vscode\\extensions\\ms-python.python-2024.18.1-win32-x64\\python_files\\python_server.py\", line 130, in exec_user_input\n",
       "    retval = callable_(user_input, user_globals)\n",
       "  File \"<string>\", line 3, in <module>\n",
       "NameError: name 'dataframe' is not defined\n",
       "\n"
      ]
     },
     "metadata": {},
     "output_type": "display_data"
    }
   ],
   "source": [
    "# Summary statistics for the heart attack dataset\n",
    "print(\"\\Serangan Jantung Dataset Statistics:\")\n",
    "print(dataframe.describe())"
   ]
  },
  {
   "cell_type": "code",
   "execution_count": null,
   "metadata": {
    "id": "USX5Sa7QihgM"
   },
   "outputs": [],
   "source": [
    "# Bibliotecas para manipulação e computação de dados\n",
    "import pandas as pd  # Manipulação e análise de dados tabulares, permite leitura de arquivos CSV.\n",
    "import numpy as np  # Computação numérica com arrays e operações matemáticas otimizadas.\n",
    "\n",
    "# Bibliotecas para visualização de dados\n",
    "import matplotlib.pyplot as plt  # Criação de gráficos e visualizações de dados.\n",
    "import seaborn as sns  # Visualizações estatísticas avançadas.\n",
    "\n",
    "# Biblioteca para pré-processamento de dados\n",
    "from sklearn import preprocessing  # Funções para normalização, codificação e outras transformações de dados.\n",
    "\n",
    "# Biblioteca para divisão e validação dos dados\n",
    "import warnings  # Ignorar avisos que não são críticos para execução, como FutureWarnings\n",
    "from sklearn.model_selection import train_test_split, cross_val_score  # Funções para dividir dados e realizar validação cruzada.\n",
    "\n",
    "# Bibliotecas de modelos de Machine Learning (classificadores)\n",
    "from sklearn.linear_model import LogisticRegression\n",
    "from sklearn.ensemble import RandomForestClassifier\n",
    "from sklearn.tree import DecisionTreeClassifier\n",
    "from sklearn.neighbors import KNeighborsClassifier\n",
    "from sklearn.svm import SVC\n",
    "from sklearn.neural_network import MLPClassifier\n",
    "\n",
    "# Bibliotecas para cálculo de métricas de desempenho dos modelos\n",
    "from sklearn.metrics import accuracy_score, classification_report, mean_squared_error, r2_score, confusion_matrix"
   ]
  },
  {
   "cell_type": "code",
   "execution_count": null,
   "metadata": {
    "colab": {
     "base_uri": "https://localhost:8080/",
     "height": 1000
    },
    "id": "l6eOMJ4Y1kcF",
    "outputId": "393db462-cda9-4d99-f553-9824cb680baf"
   },
   "outputs": [
    {
     "data": {
      "text/plain": [
       "Traceback (most recent call last):\n",
       "  File \"c:\\Users\\HP\\.vscode\\extensions\\ms-python.python-2024.18.1-win32-x64\\python_files\\python_server.py\", line 130, in exec_user_input\n",
       "    retval = callable_(user_input, user_globals)\n",
       "  File \"<string>\", line 7, in <module>\n",
       "NameError: name 'dataframe' is not defined\n",
       "\n"
      ]
     },
     "metadata": {},
     "output_type": "display_data"
    }
   ],
   "source": [
    "import matplotlib.pyplot as plt\n",
    "import seaborn as sns\n",
    "from sklearn.decomposition import PCA\n",
    "from sklearn.preprocessing import StandardScaler\n",
    "# Distribusi variabel target\n",
    "plt.figure(figsize=(6, 4))\n",
    "sns.countplot(data=dataframe, x='output', palette='viridis')\n",
    "plt.title('Distribusi Variabel Target (output)')\n",
    "plt.xlabel('Output (0: Tidak Berisiko, 1: Berisiko)')\n",
    "plt.ylabel('Jumlah')\n",
    "plt.show()\n",
    "\n",
    "# Boxplot untuk hubungan fitur numerik dengan target\n",
    "numerical_features = ['age', 'trtbps', 'chol', 'thalachh', 'oldpeak']\n",
    "for feature in numerical_features:\n",
    "    plt.figure(figsize=(8, 5))\n",
    "    sns.boxplot(data=dataframe, x='output', y=feature, palette='coolwarm')\n",
    "    plt.title(f'Hubungan {feature} dengan Output')\n",
    "    plt.xlabel('Output (0: Tidak Berisiko, 1: Berisiko)')\n",
    "    plt.ylabel(feature)\n",
    "    plt.show()\n",
    "\n",
    "# Korelasi antar variabel numerik\n",
    "plt.figure(figsize=(12, 10))\n",
    "sns.heatmap(dataframe.corr(), annot=True, fmt='.2f', cmap='coolwarm', square=True)\n",
    "plt.title('Korelasi Antar Variabel Numerik')\n",
    "plt.show()\n",
    "\n",
    "# PCA untuk reduksi dimensi\n",
    "numeric_data = dataframe[numerical_features].dropna()\n",
    "scaler = StandardScaler()\n",
    "scaled_data = scaler.fit_transform(numeric_data)\n",
    "\n",
    "pca = PCA(n_components=2)\n",
    "pca_result = pca.fit_transform(scaled_data)\n",
    "plt.figure(figsize=(8, 6))\n",
    "plt.scatter(pca_result[:, 0], pca_result[:, 1], c=dataframe['output'], cmap='viridis', alpha=0.7)\n",
    "plt.title('PCA - 2D Projection')\n",
    "plt.xlabel('Principal Component 1')\n",
    "plt.ylabel('Principal Component 2')\n",
    "plt.colorbar(label='Output (0: Tidak Berisiko, 1: Berisiko)')\n",
    "plt.show()\n",
    "\n",
    "# Pairplot untuk analisis hubungan fitur\n",
    "sns.pairplot(data=dataframe, vars=numerical_features, hue='output', palette='husl')\n",
    "plt.show()"
   ]
  },
  {
   "cell_type": "code",
   "execution_count": null,
   "metadata": {
    "colab": {
     "base_uri": "https://localhost:8080/",
     "height": 238
    },
    "id": "3E1WD5pl0KBC",
    "outputId": "432177b4-4694-48ab-8d53-d14e12b3b500"
   },
   "outputs": [
    {
     "data": {
      "text/plain": [
       "Traceback (most recent call last):\n",
       "  File \"c:\\Users\\HP\\.vscode\\extensions\\ms-python.python-2024.18.1-win32-x64\\python_files\\python_server.py\", line 130, in exec_user_input\n",
       "    retval = callable_(user_input, user_globals)\n",
       "  File \"<string>\", line 19, in <module>\n",
       "NameError: name 'dataframe' is not defined\n",
       "\n"
      ]
     },
     "metadata": {},
     "output_type": "display_data"
    }
   ],
   "source": [
    "# Importing necessary libraries\n",
    "from sklearn.pipeline import make_pipeline\n",
    "from sklearn.model_selection import train_test_split\n",
    "from sklearn.linear_model import LogisticRegression\n",
    "from sklearn.ensemble import RandomForestClassifier\n",
    "from sklearn.tree import DecisionTreeClassifier\n",
    "from sklearn.neighbors import KNeighborsClassifier\n",
    "from sklearn.svm import SVC\n",
    "from sklearn.neural_network import MLPClassifier\n",
    "from sklearn.metrics import accuracy_score, confusion_matrix, classification_report\n",
    "import pandas as pd\n",
    "\n",
    "pipe_numpy = make_pipeline(StandardScaler(), LogisticRegression())\n",
    "pipe_pandas = make_pipeline(StandardScaler(), LogisticRegression())\n",
    "\n",
    "# Preparing data: selecting prediction features and target\n",
    "selected_features = ['sex', 'cp', 'trtbps', 'chol', 'fbs', 'restecg', 'exng', 'thalachh', 'oldpeak', 'slp', 'caa', 'thall']\n",
    "\n",
    "x = dataframe[selected_features]\n",
    "y = dataframe['output']\n",
    "\n",
    "# Splitting data into train and test sets\n",
    "x_train, x_test, y_train, y_test = train_test_split(x, y, test_size=0.2, random_state=42)\n",
    "\n",
    "# Pembagian data training = 80% dan testing = 20%\n",
    "\n",
    "df_train, df_test = train_test_split(dataframe, test_size=0.2, random_state=42)\n",
    "# Models dictionary\n",
    "models = {\n",
    "    'Logistic Regression': LogisticRegression(random_state=42, max_iter=1000),\n",
    "    'Random Forest Classifier': RandomForestClassifier(n_estimators=50, max_depth=5, random_state=42),\n",
    "    'Decision Tree Classifier': DecisionTreeClassifier(max_depth=5, random_state=42),\n",
    "    'K-Nearest Neighbors (KNN)': KNeighborsClassifier(n_neighbors=5),\n",
    "    'Support Vector Classifier (SVC)': SVC(random_state=42),\n",
    "    'Neural Network (MLP Classifier)': MLPClassifier(max_iter=1000, random_state=42)\n",
    "}\n",
    "\n",
    "# Training, predicting, and evaluating each model\n",
    "results = []\n",
    "for name, model in models.items():\n",
    "    # Training the model\n",
    "    model.fit(x_train, y_train)\n",
    "\n",
    "    # Predicting on the test set\n",
    "    y_pred = model.predict(x_test)\n",
    "\n",
    "    # Calculating metrics\n",
    "    accuracy = accuracy_score(y_test, y_pred)\n",
    "    conf_matrix = confusion_matrix(y_test, y_pred)\n",
    "    report = classification_report(y_test, y_pred, output_dict=True)\n",
    "\n",
    "    results.append({\n",
    "        'Model': name,\n",
    "        'Accuracy': accuracy,\n",
    "        'Precision (Class 0)': report['0']['precision'],\n",
    "        'Recall (Class 0)': report['0']['recall'],\n",
    "        'F1-Score (Class 0)': report['0']['f1-score'],\n",
    "        'Precision (Class 1)': report['1']['precision'],\n",
    "        'Recall (Class 1)': report['1']['recall'],\n",
    "        'F1-Score (Class 1)': report['1']['f1-score']\n",
    "    })\n",
    "\n",
    "# Convert results to DataFrame for better visualization\n",
    "results_df = pd.DataFrame(results)\n",
    "results_df\n"
   ]
  },
  {
   "cell_type": "code",
   "execution_count": null,
   "metadata": {
    "colab": {
     "base_uri": "https://localhost:8080/",
     "height": 35
    },
    "id": "CBe45juHihSR",
    "outputId": "f5fc5518-cb5a-4852-f268-1b1384ae69b8"
   },
   "outputs": [
    {
     "data": {
      "text/plain": [
       "Traceback (most recent call last):\n",
       "  File \"c:\\Users\\HP\\.vscode\\extensions\\ms-python.python-2024.18.1-win32-x64\\python_files\\python_server.py\", line 130, in exec_user_input\n",
       "    retval = callable_(user_input, user_globals)\n",
       "  File \"<string>\", line 8, in <module>\n",
       "NameError: name 'x' is not defined\n",
       "\n"
      ]
     },
     "metadata": {},
     "output_type": "display_data"
    }
   ],
   "source": [
    "# Re-importing necessary libraries\n",
    "from sklearn.ensemble import RandomForestClassifier\n",
    "from sklearn.model_selection import train_test_split\n",
    "import pandas as pd\n",
    "import pickle\n",
    "\n",
    "# Splitting the dataset\n",
    "x_train, x_test, y_train, y_test = train_test_split(x, y, test_size=0.2, random_state=42)\n",
    "\n",
    "# Define and train the Random Forest model\n",
    "random_forest_model = RandomForestClassifier(n_estimators=50, max_depth=5, random_state=42)\n",
    "pipe_numpy.fit(x_train, y_train)\n",
    "\n",
    "x_train_df, y_train_df = df_train.drop('output', axis=1), df_train['output']\n",
    "x_test_df, y_test_df = df_test.drop('output', axis=1), df_test['output']\n",
    "pipe_pandas.fit(x_train_df, y_train_df)\n",
    "\n",
    "\n",
    "# Save the trained model to a pickle file\n",
    "model_filename_numpy = '/content/random_forest_model_numpy.pkl'\n",
    "with open(model_filename_numpy, 'wb') as file:\n",
    "    pickle.dump(pipe_numpy, file)\n",
    "\n",
    "model_filename_numpy\n",
    "\n",
    "\n",
    "model_filename_pandas = '/content/random_forest_model_pandas.pkl'\n",
    "with open(model_filename_pandas, 'wb') as file:\n",
    "    pickle.dump(pipe_pandas, file)\n",
    "\n",
    "model_filename_pandas\n",
    "\n",
    "model_filename_pandas = '/content/random_forest_model_pandas.sav'\n",
    "with open(model_filename_pandas, 'wb') as file:\n",
    "    pickle.dump(pipe_pandas, file)\n",
    "\n",
    "model_filename_pandas"
   ]
  },
  {
   "cell_type": "code",
   "execution_count": null,
   "metadata": {
    "id": "3Khq-n6KJx8g"
   },
   "outputs": [
    {
     "data": {
      "text/plain": [
       "Traceback (most recent call last):\n",
       "  File \"c:\\Users\\HP\\.vscode\\extensions\\ms-python.python-2024.18.1-win32-x64\\python_files\\python_server.py\", line 130, in exec_user_input\n",
       "    retval = callable_(user_input, user_globals)\n",
       "  File \"<string>\", line 1, in <module>\n",
       "NameError: name 'model_filename_numpy' is not defined\n",
       "\n"
      ]
     },
     "metadata": {},
     "output_type": "display_data"
    }
   ],
   "source": [
    "with open(model_filename_numpy, 'rb') as file:\n",
    "    loaded_numpy_model = pickle.load(file)"
   ]
  },
  {
   "cell_type": "code",
   "execution_count": null,
   "metadata": {
    "colab": {
     "base_uri": "https://localhost:8080/"
    },
    "id": "ONK40QoqJ9sm",
    "outputId": "f5852a48-52d4-4d82-d416-2e4d1b0ed18e"
   },
   "outputs": [
    {
     "data": {
      "text/plain": [
       "Traceback (most recent call last):\n",
       "  File \"c:\\Users\\HP\\.vscode\\extensions\\ms-python.python-2024.18.1-win32-x64\\python_files\\python_server.py\", line 130, in exec_user_input\n",
       "    retval = callable_(user_input, user_globals)\n",
       "  File \"<string>\", line 6, in <module>\n",
       "NameError: name 'loaded_numpy_model' is not defined\n",
       "\n"
      ]
     },
     "metadata": {},
     "output_type": "display_data"
    }
   ],
   "source": [
    "import warnings\n",
    "\n",
    "new_data = [[1, 0, 130, 206, 0, 0, 132, 1, 2.04, 1, 2, 3]]\n",
    "with warnings.catch_warnings():\n",
    "    warnings.simplefilter(\"ignore\")\n",
    "    prediction = loaded_numpy_model.predict(new_data)\n",
    "    result = \"Prediksi: Resiko Serangan Jantung - [1]\" if prediction[0] == 1 else \"Diprediksi: Tidak Ada Resiko Serangan Jantung - [0]\"\n",
    "\n",
    "print(result)\n"
   ]
  },
  {
   "cell_type": "code",
   "execution_count": null,
   "metadata": {
    "id": "I7aYwkXRRxPF"
   },
   "outputs": [],
   "source": []
  }
 ],
 "metadata": {
  "colab": {
   "provenance": []
  },
  "kernelspec": {
   "display_name": "Python 3",
   "name": "python3"
  },
  "language_info": {
   "name": "python"
  }
 },
 "nbformat": 4,
 "nbformat_minor": 0
}
